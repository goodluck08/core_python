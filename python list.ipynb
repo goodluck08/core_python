{
 "cells": [
  {
   "cell_type": "code",
   "execution_count": 1,
   "id": "6c730d9e",
   "metadata": {},
   "outputs": [],
   "source": [
    "# list : list can be an array but its not always an array"
   ]
  },
  {
   "cell_type": "code",
   "execution_count": 2,
   "id": "18254b00",
   "metadata": {},
   "outputs": [],
   "source": [
    "l1 = ['hi','python','data science','test',67,8.9,23]"
   ]
  },
  {
   "cell_type": "code",
   "execution_count": 3,
   "id": "7875516a",
   "metadata": {},
   "outputs": [
    {
     "data": {
      "text/plain": [
       "['hi', 'python', 'data science', 'test', 67, 8.9, 23]"
      ]
     },
     "execution_count": 3,
     "metadata": {},
     "output_type": "execute_result"
    }
   ],
   "source": [
    "l1"
   ]
  },
  {
   "cell_type": "code",
   "execution_count": 4,
   "id": "5e771b6c",
   "metadata": {},
   "outputs": [],
   "source": [
    "# add element \n",
    "l1.append('sadhna')"
   ]
  },
  {
   "cell_type": "code",
   "execution_count": 5,
   "id": "d70b767b",
   "metadata": {},
   "outputs": [
    {
     "data": {
      "text/plain": [
       "['hi', 'python', 'data science', 'test', 67, 8.9, 23, 'sadhna']"
      ]
     },
     "execution_count": 5,
     "metadata": {},
     "output_type": "execute_result"
    }
   ],
   "source": [
    "l1"
   ]
  },
  {
   "cell_type": "code",
   "execution_count": 6,
   "id": "90f8691d",
   "metadata": {},
   "outputs": [
    {
     "data": {
      "text/plain": [
       "1"
      ]
     },
     "execution_count": 6,
     "metadata": {},
     "output_type": "execute_result"
    }
   ],
   "source": [
    "# frequency of element\n",
    "l1.count('hi')"
   ]
  },
  {
   "cell_type": "code",
   "execution_count": 7,
   "id": "644a335f",
   "metadata": {},
   "outputs": [
    {
     "data": {
      "text/plain": [
       "0"
      ]
     },
     "execution_count": 7,
     "metadata": {},
     "output_type": "execute_result"
    }
   ],
   "source": [
    "l1.count('hello')"
   ]
  },
  {
   "cell_type": "code",
   "execution_count": 8,
   "id": "c5a83146",
   "metadata": {},
   "outputs": [
    {
     "ename": "TypeError",
     "evalue": "list.append() takes exactly one argument (2 given)",
     "output_type": "error",
     "traceback": [
      "\u001b[1;31m---------------------------------------------------------------------------\u001b[0m",
      "\u001b[1;31mTypeError\u001b[0m                                 Traceback (most recent call last)",
      "Input \u001b[1;32mIn [8]\u001b[0m, in \u001b[0;36m<cell line: 1>\u001b[1;34m()\u001b[0m\n\u001b[1;32m----> 1\u001b[0m \u001b[43ml1\u001b[49m\u001b[38;5;241;43m.\u001b[39;49m\u001b[43mappend\u001b[49m\u001b[43m(\u001b[49m\u001b[38;5;124;43m'\u001b[39;49m\u001b[38;5;124;43mhi\u001b[39;49m\u001b[38;5;124;43m'\u001b[39;49m\u001b[43m,\u001b[49m\u001b[38;5;124;43m'\u001b[39;49m\u001b[38;5;124;43mhello\u001b[39;49m\u001b[38;5;124;43m'\u001b[39;49m\u001b[43m)\u001b[49m\n",
      "\u001b[1;31mTypeError\u001b[0m: list.append() takes exactly one argument (2 given)"
     ]
    }
   ],
   "source": [
    "l1.append('hi','hello')"
   ]
  },
  {
   "cell_type": "code",
   "execution_count": 9,
   "id": "628145ca",
   "metadata": {},
   "outputs": [],
   "source": [
    "l1.extend(['hi',34,'machine learning'])"
   ]
  },
  {
   "cell_type": "code",
   "execution_count": 10,
   "id": "c443e6ce",
   "metadata": {},
   "outputs": [
    {
     "data": {
      "text/plain": [
       "['hi',\n",
       " 'python',\n",
       " 'data science',\n",
       " 'test',\n",
       " 67,\n",
       " 8.9,\n",
       " 23,\n",
       " 'sadhna',\n",
       " 'hi',\n",
       " 34,\n",
       " 'machine learning']"
      ]
     },
     "execution_count": 10,
     "metadata": {},
     "output_type": "execute_result"
    }
   ],
   "source": [
    "l1"
   ]
  },
  {
   "cell_type": "code",
   "execution_count": 11,
   "id": "78d2b0b2",
   "metadata": {},
   "outputs": [
    {
     "ename": "TypeError",
     "evalue": "list.extend() takes exactly one argument (3 given)",
     "output_type": "error",
     "traceback": [
      "\u001b[1;31m---------------------------------------------------------------------------\u001b[0m",
      "\u001b[1;31mTypeError\u001b[0m                                 Traceback (most recent call last)",
      "Input \u001b[1;32mIn [11]\u001b[0m, in \u001b[0;36m<cell line: 1>\u001b[1;34m()\u001b[0m\n\u001b[1;32m----> 1\u001b[0m \u001b[43ml1\u001b[49m\u001b[38;5;241;43m.\u001b[39;49m\u001b[43mextend\u001b[49m\u001b[43m(\u001b[49m\u001b[38;5;124;43m'\u001b[39;49m\u001b[38;5;124;43mhi\u001b[39;49m\u001b[38;5;124;43m'\u001b[39;49m\u001b[43m,\u001b[49m\u001b[38;5;241;43m34\u001b[39;49m\u001b[43m,\u001b[49m\u001b[38;5;124;43m'\u001b[39;49m\u001b[38;5;124;43mmachine learning\u001b[39;49m\u001b[38;5;124;43m'\u001b[39;49m\u001b[43m)\u001b[49m\n",
      "\u001b[1;31mTypeError\u001b[0m: list.extend() takes exactly one argument (3 given)"
     ]
    }
   ],
   "source": [
    "l1.extend('hi',34,'machine learning')"
   ]
  },
  {
   "cell_type": "code",
   "execution_count": 12,
   "id": "38c02b01",
   "metadata": {},
   "outputs": [],
   "source": [
    "l1.extend('abc')"
   ]
  },
  {
   "cell_type": "code",
   "execution_count": 13,
   "id": "c5495058",
   "metadata": {},
   "outputs": [
    {
     "data": {
      "text/plain": [
       "['hi',\n",
       " 'python',\n",
       " 'data science',\n",
       " 'test',\n",
       " 67,\n",
       " 8.9,\n",
       " 23,\n",
       " 'sadhna',\n",
       " 'hi',\n",
       " 34,\n",
       " 'machine learning',\n",
       " 'a',\n",
       " 'b',\n",
       " 'c']"
      ]
     },
     "execution_count": 13,
     "metadata": {},
     "output_type": "execute_result"
    }
   ],
   "source": [
    "l1"
   ]
  },
  {
   "cell_type": "code",
   "execution_count": 14,
   "id": "ee8f740d",
   "metadata": {},
   "outputs": [
    {
     "ename": "TypeError",
     "evalue": "'int' object is not iterable",
     "output_type": "error",
     "traceback": [
      "\u001b[1;31m---------------------------------------------------------------------------\u001b[0m",
      "\u001b[1;31mTypeError\u001b[0m                                 Traceback (most recent call last)",
      "Input \u001b[1;32mIn [14]\u001b[0m, in \u001b[0;36m<cell line: 1>\u001b[1;34m()\u001b[0m\n\u001b[1;32m----> 1\u001b[0m \u001b[43ml1\u001b[49m\u001b[38;5;241;43m.\u001b[39;49m\u001b[43mextend\u001b[49m\u001b[43m(\u001b[49m\u001b[38;5;241;43m2345678\u001b[39;49m\u001b[43m)\u001b[49m\n",
      "\u001b[1;31mTypeError\u001b[0m: 'int' object is not iterable"
     ]
    }
   ],
   "source": [
    "l1.extend(2345678)"
   ]
  },
  {
   "cell_type": "code",
   "execution_count": 15,
   "id": "4f6e16af",
   "metadata": {},
   "outputs": [],
   "source": [
    "l1.append([76543,678,8765])"
   ]
  },
  {
   "cell_type": "code",
   "execution_count": 16,
   "id": "9362b1cf",
   "metadata": {},
   "outputs": [
    {
     "data": {
      "text/plain": [
       "['hi',\n",
       " 'python',\n",
       " 'data science',\n",
       " 'test',\n",
       " 67,\n",
       " 8.9,\n",
       " 23,\n",
       " 'sadhna',\n",
       " 'hi',\n",
       " 34,\n",
       " 'machine learning',\n",
       " 'a',\n",
       " 'b',\n",
       " 'c',\n",
       " [76543, 678, 8765]]"
      ]
     },
     "execution_count": 16,
     "metadata": {},
     "output_type": "execute_result"
    }
   ],
   "source": [
    "l1"
   ]
  },
  {
   "cell_type": "code",
   "execution_count": 17,
   "id": "3b46a79a",
   "metadata": {},
   "outputs": [],
   "source": [
    "new_list = l1.copy()"
   ]
  },
  {
   "cell_type": "code",
   "execution_count": 18,
   "id": "93fdd7f1",
   "metadata": {},
   "outputs": [
    {
     "data": {
      "text/plain": [
       "['hi',\n",
       " 'python',\n",
       " 'data science',\n",
       " 'test',\n",
       " 67,\n",
       " 8.9,\n",
       " 23,\n",
       " 'sadhna',\n",
       " 'hi',\n",
       " 34,\n",
       " 'machine learning',\n",
       " 'a',\n",
       " 'b',\n",
       " 'c',\n",
       " [76543, 678, 8765]]"
      ]
     },
     "execution_count": 18,
     "metadata": {},
     "output_type": "execute_result"
    }
   ],
   "source": [
    "new_list"
   ]
  },
  {
   "cell_type": "code",
   "execution_count": 19,
   "id": "16860852",
   "metadata": {},
   "outputs": [],
   "source": [
    "l1.remove('test')"
   ]
  },
  {
   "cell_type": "code",
   "execution_count": 20,
   "id": "1c34224e",
   "metadata": {},
   "outputs": [
    {
     "data": {
      "text/plain": [
       "['hi',\n",
       " 'python',\n",
       " 'data science',\n",
       " 67,\n",
       " 8.9,\n",
       " 23,\n",
       " 'sadhna',\n",
       " 'hi',\n",
       " 34,\n",
       " 'machine learning',\n",
       " 'a',\n",
       " 'b',\n",
       " 'c',\n",
       " [76543, 678, 8765]]"
      ]
     },
     "execution_count": 20,
     "metadata": {},
     "output_type": "execute_result"
    }
   ],
   "source": [
    "l1"
   ]
  },
  {
   "cell_type": "code",
   "execution_count": 21,
   "id": "ed027726",
   "metadata": {},
   "outputs": [],
   "source": [
    "l1.remove('hi')"
   ]
  },
  {
   "cell_type": "code",
   "execution_count": 22,
   "id": "89d6bf01",
   "metadata": {},
   "outputs": [
    {
     "data": {
      "text/plain": [
       "['python',\n",
       " 'data science',\n",
       " 67,\n",
       " 8.9,\n",
       " 23,\n",
       " 'sadhna',\n",
       " 'hi',\n",
       " 34,\n",
       " 'machine learning',\n",
       " 'a',\n",
       " 'b',\n",
       " 'c',\n",
       " [76543, 678, 8765]]"
      ]
     },
     "execution_count": 22,
     "metadata": {},
     "output_type": "execute_result"
    }
   ],
   "source": [
    "l1"
   ]
  },
  {
   "cell_type": "code",
   "execution_count": 23,
   "id": "b422f992",
   "metadata": {},
   "outputs": [
    {
     "data": {
      "text/plain": [
       "0"
      ]
     },
     "execution_count": 23,
     "metadata": {},
     "output_type": "execute_result"
    }
   ],
   "source": [
    "l1.index('python')"
   ]
  },
  {
   "cell_type": "code",
   "execution_count": 24,
   "id": "b8fc08f3",
   "metadata": {},
   "outputs": [
    {
     "data": {
      "text/plain": [
       "5"
      ]
     },
     "execution_count": 24,
     "metadata": {},
     "output_type": "execute_result"
    }
   ],
   "source": [
    "l1.index('sadhna')"
   ]
  },
  {
   "cell_type": "code",
   "execution_count": 25,
   "id": "d68b881c",
   "metadata": {},
   "outputs": [
    {
     "data": {
      "text/plain": [
       "'python'"
      ]
     },
     "execution_count": 25,
     "metadata": {},
     "output_type": "execute_result"
    }
   ],
   "source": [
    "l1.pop(0)"
   ]
  },
  {
   "cell_type": "code",
   "execution_count": 27,
   "id": "188a8b3f",
   "metadata": {},
   "outputs": [
    {
     "data": {
      "text/plain": [
       "[76543, 678, 8765]"
      ]
     },
     "execution_count": 27,
     "metadata": {},
     "output_type": "execute_result"
    }
   ],
   "source": [
    "l1.pop()"
   ]
  },
  {
   "cell_type": "code",
   "execution_count": 28,
   "id": "a4295f85",
   "metadata": {},
   "outputs": [
    {
     "data": {
      "text/plain": [
       "['data science',\n",
       " 67,\n",
       " 8.9,\n",
       " 23,\n",
       " 'sadhna',\n",
       " 'hi',\n",
       " 34,\n",
       " 'machine learning',\n",
       " 'a',\n",
       " 'b',\n",
       " 'c']"
      ]
     },
     "execution_count": 28,
     "metadata": {},
     "output_type": "execute_result"
    }
   ],
   "source": [
    "l1"
   ]
  },
  {
   "cell_type": "code",
   "execution_count": 29,
   "id": "79073d73",
   "metadata": {},
   "outputs": [],
   "source": [
    "l1.insert(0,'artificial intelligence')"
   ]
  },
  {
   "cell_type": "code",
   "execution_count": 30,
   "id": "5201f42b",
   "metadata": {},
   "outputs": [
    {
     "data": {
      "text/plain": [
       "['artificial intelligence',\n",
       " 'data science',\n",
       " 67,\n",
       " 8.9,\n",
       " 23,\n",
       " 'sadhna',\n",
       " 'hi',\n",
       " 34,\n",
       " 'machine learning',\n",
       " 'a',\n",
       " 'b',\n",
       " 'c']"
      ]
     },
     "execution_count": 30,
     "metadata": {},
     "output_type": "execute_result"
    }
   ],
   "source": [
    "l1"
   ]
  },
  {
   "cell_type": "code",
   "execution_count": 31,
   "id": "71449ab7",
   "metadata": {},
   "outputs": [],
   "source": [
    "l1.reverse()"
   ]
  },
  {
   "cell_type": "code",
   "execution_count": 32,
   "id": "d97806a7",
   "metadata": {},
   "outputs": [
    {
     "data": {
      "text/plain": [
       "['c',\n",
       " 'b',\n",
       " 'a',\n",
       " 'machine learning',\n",
       " 34,\n",
       " 'hi',\n",
       " 'sadhna',\n",
       " 23,\n",
       " 8.9,\n",
       " 67,\n",
       " 'data science',\n",
       " 'artificial intelligence']"
      ]
     },
     "execution_count": 32,
     "metadata": {},
     "output_type": "execute_result"
    }
   ],
   "source": [
    "l1"
   ]
  },
  {
   "cell_type": "code",
   "execution_count": 33,
   "id": "063b2cd3",
   "metadata": {},
   "outputs": [
    {
     "ename": "TypeError",
     "evalue": "'<' not supported between instances of 'int' and 'str'",
     "output_type": "error",
     "traceback": [
      "\u001b[1;31m---------------------------------------------------------------------------\u001b[0m",
      "\u001b[1;31mTypeError\u001b[0m                                 Traceback (most recent call last)",
      "Input \u001b[1;32mIn [33]\u001b[0m, in \u001b[0;36m<cell line: 1>\u001b[1;34m()\u001b[0m\n\u001b[1;32m----> 1\u001b[0m \u001b[43ml1\u001b[49m\u001b[38;5;241;43m.\u001b[39;49m\u001b[43msort\u001b[49m\u001b[43m(\u001b[49m\u001b[43m)\u001b[49m\n",
      "\u001b[1;31mTypeError\u001b[0m: '<' not supported between instances of 'int' and 'str'"
     ]
    }
   ],
   "source": [
    "l1.sort()"
   ]
  },
  {
   "cell_type": "code",
   "execution_count": 34,
   "id": "b8f4be11",
   "metadata": {},
   "outputs": [],
   "source": [
    "l2 = [9.765,56,4,87,3]"
   ]
  },
  {
   "cell_type": "code",
   "execution_count": 35,
   "id": "e779e00d",
   "metadata": {},
   "outputs": [],
   "source": [
    "l2.sort()"
   ]
  },
  {
   "cell_type": "code",
   "execution_count": 36,
   "id": "1b785f23",
   "metadata": {},
   "outputs": [
    {
     "data": {
      "text/plain": [
       "[3, 4, 9.765, 56, 87]"
      ]
     },
     "execution_count": 36,
     "metadata": {},
     "output_type": "execute_result"
    }
   ],
   "source": [
    "l2"
   ]
  },
  {
   "cell_type": "code",
   "execution_count": 37,
   "id": "1b5f5115",
   "metadata": {},
   "outputs": [],
   "source": [
    "l2.clear()"
   ]
  },
  {
   "cell_type": "code",
   "execution_count": 38,
   "id": "52dcff4b",
   "metadata": {},
   "outputs": [
    {
     "data": {
      "text/plain": [
       "[]"
      ]
     },
     "execution_count": 38,
     "metadata": {},
     "output_type": "execute_result"
    }
   ],
   "source": [
    "l2"
   ]
  },
  {
   "cell_type": "code",
   "execution_count": 39,
   "id": "2c0232a9",
   "metadata": {},
   "outputs": [
    {
     "data": {
      "text/plain": [
       "list"
      ]
     },
     "execution_count": 39,
     "metadata": {},
     "output_type": "execute_result"
    }
   ],
   "source": [
    "type(l2)"
   ]
  },
  {
   "cell_type": "code",
   "execution_count": 40,
   "id": "891683f4",
   "metadata": {},
   "outputs": [
    {
     "data": {
      "text/plain": [
       "['a',\n",
       " 'b',\n",
       " 'c',\n",
       " 'machine learning',\n",
       " 34,\n",
       " 'hi',\n",
       " 'sadhna',\n",
       " 23,\n",
       " 8.9,\n",
       " 67,\n",
       " 'data science',\n",
       " 'artificial intelligence']"
      ]
     },
     "execution_count": 40,
     "metadata": {},
     "output_type": "execute_result"
    }
   ],
   "source": [
    "l1"
   ]
  },
  {
   "cell_type": "code",
   "execution_count": 41,
   "id": "dc23544e",
   "metadata": {},
   "outputs": [
    {
     "data": {
      "text/plain": [
       "12"
      ]
     },
     "execution_count": 41,
     "metadata": {},
     "output_type": "execute_result"
    }
   ],
   "source": [
    "len(l1)"
   ]
  },
  {
   "cell_type": "code",
   "execution_count": 42,
   "id": "46127023",
   "metadata": {},
   "outputs": [
    {
     "data": {
      "text/plain": [
       "5"
      ]
     },
     "execution_count": 42,
     "metadata": {},
     "output_type": "execute_result"
    }
   ],
   "source": [
    "l1.index('hi')"
   ]
  },
  {
   "cell_type": "code",
   "execution_count": 45,
   "id": "4a95eef4",
   "metadata": {},
   "outputs": [
    {
     "data": {
      "text/plain": [
       "['a',\n",
       " 'b',\n",
       " 'c',\n",
       " 'machine learning',\n",
       " 34,\n",
       " 'hi',\n",
       " 'sadhna',\n",
       " 23,\n",
       " 8.9,\n",
       " 67,\n",
       " 'data science',\n",
       " 'artificial intelligence']"
      ]
     },
     "execution_count": 45,
     "metadata": {},
     "output_type": "execute_result"
    }
   ],
   "source": [
    "l1[0]\n",
    "l1"
   ]
  },
  {
   "cell_type": "code",
   "execution_count": 44,
   "id": "207279d5",
   "metadata": {},
   "outputs": [
    {
     "data": {
      "text/plain": [
       "['b', 'c', 'machine learning', 34]"
      ]
     },
     "execution_count": 44,
     "metadata": {},
     "output_type": "execute_result"
    }
   ],
   "source": [
    "l1[1:5] #exclude last range"
   ]
  },
  {
   "cell_type": "code",
   "execution_count": 46,
   "id": "e2612511",
   "metadata": {},
   "outputs": [
    {
     "data": {
      "text/plain": [
       "['a', 'b', 'c', 'machine learning']"
      ]
     },
     "execution_count": 46,
     "metadata": {},
     "output_type": "execute_result"
    }
   ],
   "source": [
    "l1[:4]"
   ]
  },
  {
   "cell_type": "code",
   "execution_count": 47,
   "id": "eb352862",
   "metadata": {},
   "outputs": [
    {
     "data": {
      "text/plain": [
       "['hi', 'sadhna', 23, 8.9, 67, 'data science', 'artificial intelligence']"
      ]
     },
     "execution_count": 47,
     "metadata": {},
     "output_type": "execute_result"
    }
   ],
   "source": [
    "l1[5:]"
   ]
  },
  {
   "cell_type": "code",
   "execution_count": 48,
   "id": "42b7a4c0",
   "metadata": {},
   "outputs": [
    {
     "data": {
      "text/plain": [
       "['a',\n",
       " 'b',\n",
       " 'c',\n",
       " 'machine learning',\n",
       " 34,\n",
       " 'hi',\n",
       " 'sadhna',\n",
       " 23,\n",
       " 8.9,\n",
       " 67,\n",
       " 'data science',\n",
       " 'artificial intelligence']"
      ]
     },
     "execution_count": 48,
     "metadata": {},
     "output_type": "execute_result"
    }
   ],
   "source": [
    "l1"
   ]
  },
  {
   "cell_type": "code",
   "execution_count": 49,
   "id": "05ac4e3b",
   "metadata": {},
   "outputs": [
    {
     "data": {
      "text/plain": [
       "'artificial intelligence'"
      ]
     },
     "execution_count": 49,
     "metadata": {},
     "output_type": "execute_result"
    }
   ],
   "source": [
    "l1[-1]"
   ]
  },
  {
   "cell_type": "code",
   "execution_count": 50,
   "id": "795b4c51",
   "metadata": {},
   "outputs": [
    {
     "data": {
      "text/plain": [
       "'data science'"
      ]
     },
     "execution_count": 50,
     "metadata": {},
     "output_type": "execute_result"
    }
   ],
   "source": [
    "l1[-2]"
   ]
  },
  {
   "cell_type": "code",
   "execution_count": null,
   "id": "613e75c5",
   "metadata": {},
   "outputs": [],
   "source": []
  }
 ],
 "metadata": {
  "kernelspec": {
   "display_name": "Python 3 (ipykernel)",
   "language": "python",
   "name": "python3"
  },
  "language_info": {
   "codemirror_mode": {
    "name": "ipython",
    "version": 3
   },
   "file_extension": ".py",
   "mimetype": "text/x-python",
   "name": "python",
   "nbconvert_exporter": "python",
   "pygments_lexer": "ipython3",
   "version": "3.9.12"
  }
 },
 "nbformat": 4,
 "nbformat_minor": 5
}
